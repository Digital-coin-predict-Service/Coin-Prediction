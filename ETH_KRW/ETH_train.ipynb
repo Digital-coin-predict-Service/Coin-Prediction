{
 "cells": [
  {
   "cell_type": "code",
   "execution_count": 1,
   "metadata": {
    "collapsed": false,
    "ExecuteTime": {
     "end_time": "2024-01-18T03:44:14.201711Z",
     "start_time": "2024-01-18T03:44:09.621188900Z"
    }
   },
   "outputs": [],
   "source": [
    "import numpy as np\n",
    "import pandas as pd\n",
    "from keras.models import Sequential\n",
    "from keras.layers import Dense, LSTM, Dropout\n",
    "import tensorflow as tf\n",
    "import matplotlib.pyplot as plt\n",
    "from sklearn.preprocessing import MinMaxScaler, RobustScaler\n",
    "from tensorflow.python.client import device_lib\n",
    "import os\n",
    "import matplotlib.dates as mdates\n",
    "import datetime\n",
    "from calendar import monthrange\n",
    "import pyupbit\n",
    "import time"
   ]
  },
  {
   "cell_type": "code",
   "outputs": [],
   "source": [
    "'''Over All Variables'''\n",
    "x_step = 50\n",
    "y_step = 12\n",
    "train_rate = 0.9\n",
    "csv_path = \"KRW-ETH.csv\"\n",
    "dividing = 10000\n",
    "scale_rate = [[0, 100000000]]\n",
    "number_of_feature = 6"
   ],
   "metadata": {
    "collapsed": false,
    "ExecuteTime": {
     "end_time": "2024-01-11T12:53:35.607975200Z",
     "start_time": "2024-01-11T12:53:35.576978700Z"
    }
   },
   "execution_count": 5
  },
  {
   "cell_type": "code",
   "outputs": [],
   "source": [
    "'''Get Dataset from csv'''\n",
    "dataframe = pd.read_csv(csv_path)\n",
    "\n",
    "scaler = RobustScaler()\n",
    "\n",
    "open_price = dataframe['open'].values / dividing\n",
    "high_price = dataframe['high'].values / dividing\n",
    "low_price = dataframe['low'].values / dividing\n",
    "close_price = dataframe['close'].values / dividing\n",
    "volume = dataframe['volume'].values\n",
    "price = dataframe['price'].values / dividing\n",
    "\n",
    "open_price = np.reshape(open_price, (-1, 1))\n",
    "high_price = np.reshape(high_price, (-1, 1))\n",
    "low_price = np.reshape(low_price, (-1, 1))\n",
    "close_price = np.reshape(close_price, (-1, 1))\n",
    "price = np.reshape(price, (-1, 1))\n",
    "\n",
    "open_price = scaler.fit_transform(open_price)\n",
    "high_price = scaler.fit_transform(high_price)\n",
    "low_price = scaler.fit_transform(low_price)\n",
    "close_price = scaler.fit_transform(close_price)\n",
    "price = scaler.fit_transform(price)\n",
    "# scaler.fit is fitted by price\n",
    "\n",
    "open_price = np.reshape(open_price, len(open_price))\n",
    "high_price = np.reshape(high_price, len(high_price))\n",
    "low_price = np.reshape(low_price, len(low_price))\n",
    "close_price = np.reshape(close_price, len(close_price))\n",
    "price = np.reshape(price, len(price))"
   ],
   "metadata": {
    "collapsed": false,
    "ExecuteTime": {
     "end_time": "2024-01-11T12:53:38.466997600Z",
     "start_time": "2024-01-11T12:53:37.163002900Z"
    }
   },
   "execution_count": 6
  },
  {
   "cell_type": "code",
   "outputs": [],
   "source": [
    "open_price_train = open_price[:round(len(open_price) * train_rate)].tolist()\n",
    "open_price_test = open_price[round(len(open_price) * train_rate):].tolist()\n",
    "high_price_train = high_price[:round(len(high_price) * train_rate)].tolist()\n",
    "high_price_test = high_price[round(len(high_price) * train_rate):].tolist()\n",
    "low_price_train = low_price[:round(len(low_price) * train_rate)].tolist()\n",
    "low_price_test = low_price[round(len(low_price) * train_rate):].tolist()\n",
    "close_price_train = close_price[:round(len(close_price) * train_rate)].tolist()\n",
    "close_price_test = close_price[round(len(close_price) * train_rate):].tolist()\n",
    "volume_train = volume[:round(len(volume) * train_rate)].tolist()\n",
    "volume_test = volume[round(len(volume) * train_rate):].tolist()\n",
    "price_train = price[:round(len(price) * train_rate)].tolist()\n",
    "price_test = price[round(len(price) * train_rate):].tolist()\n",
    "\n",
    "open_price_x = []\n",
    "# open_price_y = []\n",
    "high_price_x = []\n",
    "# high_price_y = []\n",
    "low_price_x = []\n",
    "# low_price_y = []\n",
    "close_price_x = []\n",
    "# close_price_y = []\n",
    "volume_x = []\n",
    "# volume_y = []\n",
    "price_x = []\n",
    "price_y = []\n",
    "\n",
    "'''testset dividing'''\n",
    "'''all array has same length'''\n",
    "for i in range(len(open_price_train) - x_step - y_step + 1):\n",
    "    open_price_x.append(open_price_train[i:i + x_step])\n",
    "    # open_price_y.append(open_price_train[i+x_step:i+x_step+y_step])\n",
    "    high_price_x.append(high_price_train[i:i + x_step])\n",
    "    # high_price_y.append(high_price_train[i+x_step:i+x_step+y_step])\n",
    "    low_price_x.append(low_price_train[i:i + x_step])\n",
    "    # low_price_y.append(low_price_train[i+x_step:i+x_step+y_step])\n",
    "    close_price_x.append(close_price_train[i:i + x_step])\n",
    "    # close_price_y.append(close_price_train[i+x_step:i+x_step+y_step])\n",
    "    volume_x.append(volume_train[i:i + x_step])\n",
    "    # volume_y.append(volume_train[i+x_step:i+x_step+y_step])\n",
    "    price_x.append(price_train[i:i + x_step])\n",
    "    price_y.append(price_train[i + x_step:i + x_step + y_step])\n",
    "    \n",
    "open_price_x = np.array(open_price_x)\n",
    "# open_price_y = np.array(open_price_y)\n",
    "high_price_x = np.array(high_price_x)\n",
    "# high_price_y = np.array(high_price_y)\n",
    "low_price_x = np.array(low_price_x)\n",
    "# low_price_y = np.array(low_price_y)\n",
    "close_price_x = np.array(close_price_x)\n",
    "# close_price_y = np.array(close_price_y)\n",
    "volume_x = np.array(volume_x)\n",
    "# volume_y = np.array(volume_y)\n",
    "price_x = np.array(price_x)\n",
    "price_y = np.array(price_y)\n",
    "\n",
    "open_price_x = np.reshape(open_price_x, (len(open_price_x), len(open_price_x[1]), 1))\n",
    "high_price_x = np.reshape(high_price_x, (len(high_price_x), len(high_price_x[1]), 1))\n",
    "low_price_x = np.reshape(low_price_x, (len(low_price_x), len(low_price_x[1]), 1))\n",
    "close_price_x = np.reshape(close_price_x, (len(close_price_x), len(close_price_x[1]), 1))\n",
    "volume_x = np.reshape(volume_x, (len(volume_x), len(volume_x[1]), 1))\n",
    "price_x = np.reshape(price_x, (len(price_x), len(price_x[1]), 1))"
   ],
   "metadata": {
    "collapsed": false,
    "ExecuteTime": {
     "end_time": "2024-01-11T12:54:01.433001700Z",
     "start_time": "2024-01-11T12:53:38.856001Z"
    }
   },
   "execution_count": 7
  },
  {
   "cell_type": "code",
   "outputs": [],
   "source": [
    "price_y = np.reshape(price_y, (len(price_y), len(price_y[1])))\n",
    "train_data = np.stack([open_price_x, high_price_x, low_price_x, close_price_x, volume_x, price_x], axis=2)\n",
    "train_data = np.reshape(train_data, (len(train_data), len(train_data[1]), 6))"
   ],
   "metadata": {
    "collapsed": false,
    "ExecuteTime": {
     "end_time": "2024-01-11T12:54:03.218001500Z",
     "start_time": "2024-01-11T12:54:01.437003700Z"
    }
   },
   "execution_count": 8
  },
  {
   "cell_type": "code",
   "outputs": [
    {
     "name": "stdout",
     "output_type": "stream",
     "text": [
      "Epoch 1/5\n",
      "4920/4920 [==============================] - 59s 11ms/step - loss: 0.0065 - accuracy: 0.0835\n",
      "Epoch 2/5\n",
      "4920/4920 [==============================] - 54s 11ms/step - loss: 9.1945e-04 - accuracy: 0.0796\n",
      "Epoch 3/5\n",
      "4920/4920 [==============================] - 54s 11ms/step - loss: 9.2886e-04 - accuracy: 0.0832\n",
      "Epoch 4/5\n",
      "4920/4920 [==============================] - 53s 11ms/step - loss: 6.8805e-04 - accuracy: 0.0877\n",
      "Epoch 5/5\n",
      "4920/4920 [==============================] - 54s 11ms/step - loss: 5.2568e-04 - accuracy: 0.0940\n"
     ]
    },
    {
     "data": {
      "text/plain": "<keras.callbacks.History at 0x22e08c74760>"
     },
     "execution_count": 21,
     "metadata": {},
     "output_type": "execute_result"
    }
   ],
   "source": [
    "model = Sequential()\n",
    "model.add(LSTM(units=48, input_shape=(train_data.shape[1], train_data.shape[2]), return_sequences=True))\n",
    "model.add(LSTM(units=24))\n",
    "model.add(Dense(y_step))\n",
    "\n",
    "model.compile(loss='mse', optimizer='adam', metrics=['accuracy'])\n",
    "\n",
    "model.fit(train_data, price_y, epochs=5, batch_size=120, verbose=1)"
   ],
   "metadata": {
    "collapsed": false,
    "ExecuteTime": {
     "end_time": "2024-01-11T13:36:50.594246400Z",
     "start_time": "2024-01-11T13:32:13.677980400Z"
    }
   },
   "execution_count": 21
  },
  {
   "cell_type": "code",
   "outputs": [
    {
     "name": "stdout",
     "output_type": "stream",
     "text": [
      "1/1 [==============================] - 1s 569ms/step\n",
      "45310.20745309439\n",
      "[[2411845.95461644]\n",
      " [2414778.3722222 ]\n",
      " [2420824.51002551]\n",
      " [2416612.71126666]\n",
      " [2413420.00409464]\n",
      " [2413834.69059139]\n",
      " [2413669.11145632]\n",
      " [2419467.32089183]\n",
      " [2418945.56044884]\n",
      " [2419544.31188937]\n",
      " [2419982.56083283]\n",
      " [2420950.40222683]]\n"
     ]
    }
   ],
   "source": [
    "validation = np.stack(\n",
    "    [open_price_x[-2], high_price_x[-2], low_price_x[-2], close_price_x[-2], volume_x[-2], price_x[-2]], axis=2)\n",
    "validation = np.reshape(validation, (-1, x_step, 6))\n",
    "print(abs(np.mean((scaler.inverse_transform(model.predict(validation)) * 10000) - scaler.inverse_transform(\n",
    "    price_y[-2].reshape(1, -1)) * 10000)))\n",
    "print(scaler.inverse_transform(price_y[-2].reshape(-1, 1)) * 10000)"
   ],
   "metadata": {
    "collapsed": false,
    "ExecuteTime": {
     "end_time": "2024-01-11T14:26:47.328117700Z",
     "start_time": "2024-01-11T14:26:46.692121800Z"
    }
   },
   "execution_count": 22
  },
  {
   "cell_type": "code",
   "outputs": [],
   "source": [
    "open_price_tx = []\n",
    "# open_price_ty = []\n",
    "high_price_tx = []\n",
    "# high_price_ty = []\n",
    "low_price_tx = []\n",
    "# low_price_ty = []\n",
    "close_price_tx = []\n",
    "# close_price_ty = []\n",
    "volume_tx = []\n",
    "# volume_ty = []\n",
    "price_tx = []\n",
    "price_ty = []\n",
    "\n",
    "'''testset dividing'''\n",
    "'''all array has same length'''\n",
    "for i in range(len(open_price_test) - x_step - y_step + 1):\n",
    "    open_price_tx.append(open_price_test[i:i + x_step])\n",
    "    # open_price_ty.append(open_price_test[i + x_step:i + x_step + y_step])\n",
    "    high_price_tx.append(high_price_test[i:i + x_step])\n",
    "    # high_price_ty.append(high_price_test[i + x_step:i + x_step + y_step])\n",
    "    low_price_tx.append(low_price_test[i:i + x_step])\n",
    "    # low_price_ty.append(low_price_test[i + x_step:i + x_step + y_step])\n",
    "    close_price_tx.append(close_price_test[i:i + x_step])\n",
    "    # close_price_ty.append(close_price_test[i + x_step:i + x_step + y_step])\n",
    "    volume_tx.append(volume_test[i:i + x_step])\n",
    "    # volume_ty.append(volume_test[i + x_step:i + x_step + y_step])\n",
    "    price_tx.append(price_test[i:i + x_step])\n",
    "\n",
    "    price_ty.append(price_test[i + x_step:i + x_step + y_step])\n",
    "open_price_tx = np.array(open_price_tx)\n",
    "# open_price_ty = np.array(open_price_ty)\n",
    "high_price_tx = np.array(high_price_tx)\n",
    "# high_price_ty = np.array(high_price_ty)\n",
    "low_price_tx = np.array(low_price_tx)\n",
    "# low_price_ty = np.array(low_price_ty)\n",
    "close_price_tx = np.array(close_price_tx)\n",
    "# close_price_ty = np.array(close_price_ty)\n",
    "volume_tx = np.array(volume_tx)\n",
    "# volume_ty = np.array(volume_ty)\n",
    "price_tx = np.array(price_tx)\n",
    "price_ty = np.array(price_ty)\n",
    "\n",
    "open_price_tx = np.reshape(open_price_tx, (len(open_price_tx), len(open_price_tx[1]), 1))\n",
    "high_price_tx = np.reshape(high_price_tx, (len(high_price_tx), len(high_price_tx[1]), 1))\n",
    "low_price_tx = np.reshape(low_price_tx, (len(low_price_tx), len(low_price_tx[1]), 1))\n",
    "close_price_tx = np.reshape(close_price_tx, (len(close_price_tx), len(close_price_tx[1]), 1))\n",
    "volume_tx = np.reshape(volume_tx, (len(volume_tx), len(volume_tx[1]), 1))\n",
    "price_tx = np.reshape(price_tx, (len(price_tx), len(price_tx[1]), 1))\n",
    "\n",
    "price_ty = np.reshape(price_ty, (len(price_ty), len(price_ty[1])))"
   ],
   "metadata": {
    "collapsed": false,
    "ExecuteTime": {
     "end_time": "2024-01-11T13:32:03.137307300Z",
     "start_time": "2024-01-11T13:32:01.395971500Z"
    }
   },
   "execution_count": 17
  },
  {
   "cell_type": "code",
   "outputs": [
    {
     "name": "stdout",
     "output_type": "stream",
     "text": [
      "1/1 [==============================] - 0s 25ms/step\n",
      "60985.838510581525\n"
     ]
    }
   ],
   "source": [
    "test = np.stack(\n",
    "    [open_price_tx[-2], high_price_tx[-2], low_price_tx[-2], close_price_tx[-2], volume_tx[-2], price_tx[-2]], axis=2)\n",
    "test = np.reshape(test, (-1, x_step, 6))\n",
    "print(abs(np.mean((scaler.inverse_transform(model.predict(test)) * 10000).flatten() - scaler.inverse_transform(\n",
    "    price_ty[-2].reshape(-1, 1)) * 10000)))"
   ],
   "metadata": {
    "collapsed": false,
    "ExecuteTime": {
     "end_time": "2024-01-11T14:26:53.764298800Z",
     "start_time": "2024-01-11T14:26:53.678302500Z"
    }
   },
   "execution_count": 23
  },
  {
   "cell_type": "code",
   "outputs": [
    {
     "name": "stdout",
     "output_type": "stream",
     "text": [
      "[[3092447.0888627 ]\n",
      " [3091316.16468166]\n",
      " [3093495.267691  ]\n",
      " [3096164.17169535]\n",
      " [3096865.92791763]\n",
      " [3097282.16048788]\n",
      " [3097115.77497226]\n",
      " [3093039.09770468]\n",
      " [3090159.73324357]\n",
      " [3089878.83457366]\n",
      " [3091569.10426098]\n",
      " [3090710.36178165]]\n"
     ]
    }
   ],
   "source": [
    "print(scaler.inverse_transform(price_ty[-2].reshape(-1, 1)) * 10000)"
   ],
   "metadata": {
    "collapsed": false,
    "ExecuteTime": {
     "end_time": "2024-01-11T14:26:54.723616300Z",
     "start_time": "2024-01-11T14:26:54.713618900Z"
    }
   },
   "execution_count": 24
  },
  {
   "cell_type": "code",
   "outputs": [
    {
     "name": "stdout",
     "output_type": "stream",
     "text": [
      "1/1 [==============================] - 0s 24ms/step\n",
      "[       nan        nan        nan        nan        nan        nan\n",
      "        nan        nan        nan        nan        nan        nan\n",
      " 3156883.75 3144492.5  3155625.   3155167.   3154969.75 3155677.\n",
      " 3162245.75 3154040.75 3146690.75 3145414.   3152530.   3168137.5 ]\n"
     ]
    },
    {
     "data": {
      "text/plain": "<Figure size 640x480 with 1 Axes>",
      "image/png": "[encoded data removed]"
     },
     "metadata": {},
     "output_type": "display_data"
    }
   ],
   "source": [
    "prediction = scaler.inverse_transform(model.predict(test)) * 10000\n",
    "prediction = np.reshape(prediction, (y_step))\n",
    "zero = np.array([np.nan] * y_step)\n",
    "prediction = np.append(zero, prediction)\n",
    "print(prediction)\n",
    "\n",
    "valid = scaler.inverse_transform(price_ty[-3].reshape(-1, 1)) * 10000\n",
    "valid = np.append(valid, scaler.inverse_transform(price_ty[-2].reshape(-1, 1)) * 10000)\n",
    "\n",
    "plt.plot(prediction)\n",
    "plt.plot(valid)\n",
    "# plt.legend()\n",
    "\n",
    "plt.show()"
   ],
   "metadata": {
    "collapsed": false,
    "ExecuteTime": {
     "end_time": "2024-01-11T14:26:55.488871200Z",
     "start_time": "2024-01-11T14:26:55.303870300Z"
    }
   },
   "execution_count": 25
  }
 ],
 "metadata": {
  "kernelspec": {
   "display_name": "Python 3",
   "language": "python",
   "name": "python3"
  },
  "language_info": {
   "codemirror_mode": {
    "name": "ipython",
    "version": 2
   },
   "file_extension": ".py",
   "mimetype": "text/x-python",
   "name": "python",
   "nbconvert_exporter": "python",
   "pygments_lexer": "ipython2",
   "version": "2.7.6"
  }
 },
 "nbformat": 4,
 "nbformat_minor": 0
}
