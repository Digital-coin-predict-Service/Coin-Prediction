{
 "cells": [
  {
   "cell_type": "code",
   "execution_count": 3,
   "metadata": {
    "collapsed": true,
    "ExecuteTime": {
     "end_time": "2024-01-11T08:28:43.323103300Z",
     "start_time": "2024-01-11T08:28:43.295095300Z"
    }
   },
   "outputs": [],
   "source": [
    "import numpy as np\n",
    "import pandas as pd\n",
    "from keras.models import Sequential\n",
    "from keras.layers import Dense, LSTM, Dropout\n",
    "import tensorflow as tf\n",
    "import matplotlib.pyplot as plt\n",
    "from sklearn.preprocessing import MinMaxScaler\n",
    "from tensorflow.python.client import device_lib\n",
    "import os\n",
    "import matplotlib.dates as mdates\n",
    "import datetime\n",
    "from calendar import monthrange\n",
    "import pyupbit\n",
    "import time"
   ]
  },
  {
   "cell_type": "code",
   "execution_count": 18,
   "outputs": [],
   "source": [
    "'''Over All Variables'''\n",
    "x_step = 50\n",
    "y_step = 12\n",
    "train_rate = 0.9\n",
    "csv_path = \"KRW-BTC.csv\"\n",
    "dividing = 10000"
   ],
   "metadata": {
    "collapsed": false,
    "ExecuteTime": {
     "end_time": "2024-01-11T08:30:57.651566700Z",
     "start_time": "2024-01-11T08:30:57.618548Z"
    }
   }
  },
  {
   "cell_type": "code",
   "execution_count": 19,
   "outputs": [],
   "source": [
    "'''Get Dataset from csv'''\n",
    "dataframe = pd.read_csv(csv_path)\n",
    "\n",
    "scaler = MinMaxScaler()\n",
    "\n",
    "open_price = np.log(dataframe['open'].values / dividing)\n",
    "high_price = np.log(dataframe['high'].values / dividing)\n",
    "low_price = np.log(dataframe['low'].values/dividing)\n",
    "close_price = np.log(dataframe['close'].values / dividing)\n",
    "volume = dataframe['volume'].values\n",
    "price = np.log(dataframe['price'].values / dividing)"
   ],
   "metadata": {
    "collapsed": false,
    "ExecuteTime": {
     "end_time": "2024-01-11T08:30:58.514113500Z",
     "start_time": "2024-01-11T08:30:57.922115800Z"
    }
   }
  },
  {
   "cell_type": "code",
   "execution_count": 20,
   "outputs": [],
   "source": [
    "open_price_train = open_price[:round(len(open_price)*train_rate)].tolist()\n",
    "open_price_test = open_price[round(len(open_price)*train_rate):].tolist()\n",
    "high_price_train = high_price[:round(len(high_price)*train_rate)].tolist()\n",
    "high_price_test = high_price[round(len(high_price)*train_rate):].tolist()\n",
    "low_price_train = low_price[:round(len(low_price)*train_rate)].tolist()\n",
    "low_price_test = low_price[round(len(low_price)*train_rate):].tolist()\n",
    "close_price_train = close_price[:round(len(close_price)*train_rate)].tolist()\n",
    "close_price_test = close_price[round(len(close_price)*train_rate):].tolist()\n",
    "volume_train = volume[:round(len(volume)*train_rate)].tolist()\n",
    "volume_test = volume[round(len(volume)*train_rate):].tolist()\n",
    "price_train = price[:round(len(price)*train_rate)].tolist()\n",
    "price_test = price[round(len(price)*train_rate):].tolist()"
   ],
   "metadata": {
    "collapsed": false,
    "ExecuteTime": {
     "end_time": "2024-01-11T08:30:58.660920600Z",
     "start_time": "2024-01-11T08:30:58.596701600Z"
    }
   }
  },
  {
   "cell_type": "code",
   "outputs": [],
   "source": [
    "open_price_x = []\n",
    "# open_price_y = []\n",
    "high_price_x = []\n",
    "# high_price_y = []\n",
    "low_price_x = []\n",
    "# low_price_y = []\n",
    "close_price_x = []\n",
    "# close_price_y = []\n",
    "volume_x = []\n",
    "# volume_y = []\n",
    "price_x = []\n",
    "price_y = []"
   ],
   "metadata": {
    "collapsed": false,
    "ExecuteTime": {
     "end_time": "2024-01-11T08:30:59.790996500Z",
     "start_time": "2024-01-11T08:30:58.655921200Z"
    }
   },
   "execution_count": 21
  },
  {
   "cell_type": "code",
   "execution_count": 22,
   "outputs": [],
   "source": [
    "'''testset dividing'''\n",
    "'''all array has same length'''\n",
    "for i in range(len(open_price_train) - x_step - y_step + 1) :\n",
    "    open_price_x.append(open_price_train[i:i+x_step])\n",
    "    # open_price_y.append(open_price_train[i+x_step:i+x_step+y_step])\n",
    "    high_price_x.append(high_price_train[i:i+x_step])\n",
    "    # high_price_y.append(high_price_train[i+x_step:i+x_step+y_step])\n",
    "    low_price_x.append(low_price_train[i:i+x_step])\n",
    "    # low_price_y.append(low_price_train[i+x_step:i+x_step+y_step])\n",
    "    close_price_x.append(close_price_train[i:i+x_step])\n",
    "    # close_price_y.append(close_price_train[i+x_step:i+x_step+y_step])\n",
    "    volume_x.append(volume_train[i:i+x_step])\n",
    "    # volume_y.append(volume_train[i+x_step:i+x_step+y_step])\n",
    "    price_x.append(price_train[i:i+x_step])\n",
    "    price_y.append(price_train[i+x_step:i+x_step+y_step])"
   ],
   "metadata": {
    "collapsed": false,
    "ExecuteTime": {
     "end_time": "2024-01-11T08:31:11.504684Z",
     "start_time": "2024-01-11T08:30:59.798011400Z"
    }
   }
  },
  {
   "cell_type": "code",
   "execution_count": 23,
   "outputs": [],
   "source": [
    "open_price_x = np.array(open_price_x)\n",
    "# open_price_y = np.array(open_price_y)\n",
    "high_price_x = np.array(high_price_x)\n",
    "# high_price_y = np.array(high_price_y)\n",
    "low_price_x = np.array(low_price_x)\n",
    "# low_price_y = np.array(low_price_y)\n",
    "close_price_x = np.array(close_price_x)\n",
    "# close_price_y = np.array(close_price_y)\n",
    "volume_x = np.array(volume_x)\n",
    "# volume_y = np.array(volume_y)\n",
    "price_x = np.array(price_x)\n",
    "price_y = np.array(price_y)\n",
    "\n",
    "open_price_x = np.reshape(open_price_x, (len(open_price_x), len(open_price_x[1]), 1))\n",
    "high_price_x = np.reshape(high_price_x, (len(high_price_x), len(high_price_x[1]), 1))\n",
    "low_price_x = np.reshape(low_price_x, (len(low_price_x), len(low_price_x[1]), 1))\n",
    "close_price_x = np.reshape(close_price_x, (len(close_price_x), len(close_price_x[1]), 1))\n",
    "volume_x = np.reshape(volume_x, (len(volume_x), len(volume_x[1]), 1))\n",
    "price_x = np.reshape(price_x, (len(price_x), len(price_x[1]), 1))\n",
    "\n",
    "price_y = np.reshape(price_y, (len(price_y), len(price_y[1])))"
   ],
   "metadata": {
    "collapsed": false,
    "ExecuteTime": {
     "end_time": "2024-01-11T08:31:23.282598900Z",
     "start_time": "2024-01-11T08:31:11.510687100Z"
    }
   }
  },
  {
   "cell_type": "code",
   "outputs": [],
   "source": [
    "train_data = np.stack([open_price_x, high_price_x, low_price_x, close_price_x, volume_x, price_x], axis=2)\n",
    "train_data = np.reshape(train_data, (len(train_data), len(train_data[1]), 6))"
   ],
   "metadata": {
    "collapsed": false,
    "ExecuteTime": {
     "end_time": "2024-01-11T08:31:25.273697600Z",
     "start_time": "2024-01-11T08:31:23.287599400Z"
    }
   },
   "execution_count": 24
  },
  {
   "cell_type": "code",
   "outputs": [
    {
     "name": "stdout",
     "output_type": "stream",
     "text": [
      "Epoch 1/5\n",
      "4944/4944 [==============================] - 62s 12ms/step - loss: 1.0357 - accuracy: 0.0820\n",
      "Epoch 2/5\n",
      "4944/4944 [==============================] - 55s 11ms/step - loss: 6.2649e-04 - accuracy: 0.0881\n",
      "Epoch 3/5\n",
      "4944/4944 [==============================] - 87s 18ms/step - loss: 4.2148e-04 - accuracy: 0.0865\n",
      "Epoch 4/5\n",
      "4944/4944 [==============================] - 64s 13ms/step - loss: 3.5956e-04 - accuracy: 0.0820\n",
      "Epoch 5/5\n",
      "4944/4944 [==============================] - 57s 12ms/step - loss: 2.9684e-04 - accuracy: 0.0775\n"
     ]
    },
    {
     "data": {
      "text/plain": "<keras.callbacks.History at 0x1dd07d863d0>"
     },
     "execution_count": 35,
     "metadata": {},
     "output_type": "execute_result"
    }
   ],
   "source": [
    "model = Sequential()\n",
    "model.add(LSTM(units=48, input_shape = (train_data.shape[1], train_data.shape[2]), return_sequences=True))\n",
    "model.add(LSTM(units=24))\n",
    "model.add(Dense(y_step))\n",
    "\n",
    "model.compile(loss='mse', optimizer='adam', metrics=['accuracy'])\n",
    "\n",
    "model.fit(train_data, price_y, epochs=5, batch_size=120, verbose=1)"
   ],
   "metadata": {
    "collapsed": false,
    "ExecuteTime": {
     "end_time": "2024-01-11T09:14:58.187940400Z",
     "start_time": "2024-01-11T09:09:31.181000400Z"
    }
   },
   "execution_count": 35
  },
  {
   "cell_type": "code",
   "outputs": [
    {
     "name": "stdout",
     "output_type": "stream",
     "text": [
      "1/1 [==============================] - 1s 616ms/step\n",
      "517144.5580830164\n"
     ]
    }
   ],
   "source": [
    "validation = np.stack([open_price_x[-2], high_price_x[-2], low_price_x[-2], close_price_x[-2], volume_x[-2], price_x[-2]], axis=2)\n",
    "validation = np.reshape(validation, (-1, x_step, 6))\n",
    "print(abs(np.mean((np.exp(model.predict(validation))*10000).flatten() - np.exp(price_y[-2])*10000)))"
   ],
   "metadata": {
    "collapsed": false,
    "ExecuteTime": {
     "end_time": "2024-01-11T09:16:42.195375600Z",
     "start_time": "2024-01-11T09:16:41.509387400Z"
    }
   },
   "execution_count": 36
  },
  {
   "cell_type": "code",
   "outputs": [
    {
     "name": "stdout",
     "output_type": "stream",
     "text": [
      "[35821601.49211095 35843339.95404924 35848034.473854   35837342.04318498\n",
      " 35836578.79739576 35821881.5706808  35817617.66824803 35818085.43543699\n",
      " 35811353.70084694 35802078.33913857 35810085.81629855 35817067.40575138]\n"
     ]
    }
   ],
   "source": [
    "print(np.exp(price_y[-2])*10000)"
   ],
   "metadata": {
    "collapsed": false,
    "ExecuteTime": {
     "end_time": "2024-01-11T09:08:35.808638400Z",
     "start_time": "2024-01-11T09:08:35.770648500Z"
    }
   },
   "execution_count": 29
  },
  {
   "cell_type": "code",
   "outputs": [],
   "source": [
    "open_price_tx = []\n",
    "# open_price_ty = []\n",
    "high_price_tx = []\n",
    "# high_price_ty = []\n",
    "low_price_tx = []\n",
    "# low_price_ty = []\n",
    "close_price_tx = []\n",
    "# close_price_ty = []\n",
    "volume_tx = []\n",
    "# volume_ty = []\n",
    "price_tx = []\n",
    "price_ty = []\n",
    "\n",
    "'''testset dividing'''\n",
    "'''all array has same length'''\n",
    "for i in range(len(open_price_test) - x_step - y_step + 1):\n",
    "    open_price_tx.append(open_price_test[i:i + x_step])\n",
    "    # open_price_ty.append(open_price_test[i + x_step:i + x_step + y_step])\n",
    "    high_price_tx.append(high_price_test[i:i + x_step])\n",
    "    # high_price_ty.append(high_price_test[i + x_step:i + x_step + y_step])\n",
    "    low_price_tx.append(low_price_test[i:i + x_step])\n",
    "    # low_price_ty.append(low_price_test[i + x_step:i + x_step + y_step])\n",
    "    close_price_tx.append(close_price_test[i:i + x_step])\n",
    "    # close_price_ty.append(close_price_test[i + x_step:i + x_step + y_step])\n",
    "    volume_tx.append(volume_test[i:i + x_step])\n",
    "    # volume_ty.append(volume_test[i + x_step:i + x_step + y_step])\n",
    "    price_tx.append(price_test[i:i + x_step])\n",
    "    \n",
    "    price_ty.append(price_test[i + x_step:i + x_step + y_step])"
   ],
   "metadata": {
    "collapsed": false,
    "ExecuteTime": {
     "end_time": "2024-01-11T09:08:38.830269500Z",
     "start_time": "2024-01-11T09:08:37.181725300Z"
    }
   },
   "execution_count": 30
  },
  {
   "cell_type": "code",
   "outputs": [],
   "source": [
    "open_price_tx = np.array(open_price_tx)\n",
    "# open_price_ty = np.array(open_price_ty)\n",
    "high_price_tx = np.array(high_price_tx)\n",
    "# high_price_ty = np.array(high_price_ty)\n",
    "low_price_tx = np.array(low_price_tx)\n",
    "# low_price_ty = np.array(low_price_ty)\n",
    "close_price_tx = np.array(close_price_tx)\n",
    "# close_price_ty = np.array(close_price_ty)\n",
    "volume_tx = np.array(volume_tx)\n",
    "# volume_ty = np.array(volume_ty)\n",
    "price_tx = np.array(price_tx)\n",
    "price_ty = np.array(price_ty)\n",
    "\n",
    "open_price_tx = np.reshape(open_price_tx, (len(open_price_tx), len(open_price_tx[1]), 1))\n",
    "high_price_tx = np.reshape(high_price_tx, (len(high_price_tx), len(high_price_tx[1]), 1))\n",
    "low_price_tx = np.reshape(low_price_tx, (len(low_price_tx), len(low_price_tx[1]), 1))\n",
    "close_price_tx = np.reshape(close_price_tx, (len(close_price_tx), len(close_price_tx[1]), 1))\n",
    "volume_tx = np.reshape(volume_tx, (len(volume_tx), len(volume_tx[1]), 1))\n",
    "price_tx = np.reshape(price_tx, (len(price_tx), len(price_tx[1]), 1))\n",
    "\n",
    "price_ty = np.reshape(price_ty, (len(price_ty), len(price_ty[1])))"
   ],
   "metadata": {
    "collapsed": false,
    "ExecuteTime": {
     "end_time": "2024-01-11T09:08:40.520358700Z",
     "start_time": "2024-01-11T09:08:39.251830100Z"
    }
   },
   "execution_count": 31
  },
  {
   "cell_type": "code",
   "outputs": [
    {
     "name": "stdout",
     "output_type": "stream",
     "text": [
      "1/1 [==============================] - 0s 37ms/step\n",
      "1562158.0233149633\n"
     ]
    }
   ],
   "source": [
    "test = np.stack([open_price_tx[-2], high_price_tx[-2], low_price_tx[-2], close_price_tx[-2], volume_tx[-2], price_tx[-2]], axis=2)\n",
    "test = np.reshape(test, (-1,x_step, 6))\n",
    "print(abs(np.mean((np.exp(model.predict(test))*10000).flatten() - np.exp(price_ty[-2])*10000)))"
   ],
   "metadata": {
    "collapsed": false,
    "ExecuteTime": {
     "end_time": "2024-01-11T09:08:40.624352900Z",
     "start_time": "2024-01-11T09:08:40.487359800Z"
    }
   },
   "execution_count": 32
  },
  {
   "cell_type": "code",
   "outputs": [
    {
     "name": "stdout",
     "output_type": "stream",
     "text": [
      "[62872255.92760725 62857196.6895927  62941989.66552231 62918370.74578769\n",
      " 62885757.87173015 62761954.24082293 62640309.19051338 62607411.84544025\n",
      " 62590891.83168165 62662665.43797933 62696876.52745721 62644967.74608558]\n"
     ]
    }
   ],
   "source": [
    "print(np.exp(price_ty[-2])*10000)"
   ],
   "metadata": {
    "collapsed": false,
    "ExecuteTime": {
     "end_time": "2024-01-11T09:08:40.625355900Z",
     "start_time": "2024-01-11T09:08:40.601359800Z"
    }
   },
   "execution_count": 33
  },
  {
   "cell_type": "code",
   "outputs": [
    {
     "name": "stdout",
     "output_type": "stream",
     "text": [
      "1/1 [==============================] - 0s 26ms/step\n",
      "[      nan       nan       nan       nan       nan       nan       nan\n",
      "       nan       nan       nan       nan       nan 64303824. 64397228.\n",
      " 64230400. 64434824. 64280644. 64301860. 64362784. 64332220. 64359288.\n",
      " 64394400. 64210556. 64218516.]\n"
     ]
    },
    {
     "data": {
      "text/plain": "<Figure size 640x480 with 1 Axes>",
      "image/png": "[encoded data removed]"
     },
     "metadata": {},
     "output_type": "display_data"
    }
   ],
   "source": [
    "hi = np.exp(model.predict(test))*10000\n",
    "hi = np.reshape(hi, (12))\n",
    "zero = np.array([np.nan, np.nan, np.nan, np.nan, np.nan, np.nan, np.nan, np.nan, np.nan, np.nan, np.nan, np.nan])\n",
    "hi = np.append(zero, hi)\n",
    "print(hi)\n",
    "\n",
    "last = np.exp(price_ty[-3])*10000\n",
    "last = np.append(last, np.exp(price_ty[-2])*10000)\n",
    "\n",
    "plt.plot(last)\n",
    "plt.plot(hi)\n",
    "# plt.legend()\n",
    "\n",
    "plt.show()"
   ],
   "metadata": {
    "collapsed": false,
    "ExecuteTime": {
     "end_time": "2024-01-11T09:08:41.010408600Z",
     "start_time": "2024-01-11T09:08:40.617359300Z"
    }
   },
   "execution_count": 34
  },
  {
   "cell_type": "code",
   "execution_count": 141,
   "outputs": [],
   "source": [
    "model.save('model_0109/model.h5')"
   ],
   "metadata": {
    "collapsed": false
   }
  },
  {
   "cell_type": "code",
   "execution_count": 3,
   "outputs": [
    {
     "name": "stdout",
     "output_type": "stream",
     "text": [
      "[[11 12 13 14 15 16 17 18 19 20]\n",
      " [14 15 16 17 18 19 20 21 22 23]\n",
      " [17 18 19 20 21 22 23 24 25 26]\n",
      " [20 21 22 23 24 25 26 27 28 29]]\n"
     ]
    }
   ],
   "source": [
    "class Preprocess :\n",
    "\n",
    "    def __init__(self):\n",
    "        self.arr_x = []\n",
    "        self.arr_y = []\n",
    "\n",
    "    #train data preprocessing\n",
    "    def train(self, x_step: int, y_step : int, data : np.array) -> np.array:\n",
    "        data = data.tolist()\n",
    "\n",
    "        for i in range(len(data) - x_step - y_step + 1):\n",
    "            self.arr_x.append(data[i:i+x_step])\n",
    "            self.arr_y.append(data[i+x_step:i+x_step+y_step])\n",
    "\n",
    "        return np.array(self.arr_x, np.float32), np.array(self.arr_y, np.float32)\n",
    "\n",
    "    def test(self, x_step: int, y_step : int, data : np.array) -> np.array:\n",
    "        data = data.tolist()\n",
    "\n",
    "        for i in range(round((len(data) - x_step)/y_step)):\n",
    "            if len(data[(i * y_step) + x_step:(i * y_step) + x_step + x_step]) != x_step:\n",
    "                break\n",
    "\n",
    "            self.arr_x.append(data[(i*y_step)+x_step:(i*y_step)+x_step+x_step])\n",
    "\n",
    "        return np.array(self.arr_x)\n",
    "\n",
    "\n",
    "a = np.array([1, 2, 3, 4, 5, 6, 7, 8, 9, 10, 11, 12, 13, 14, 15, 16, 17, 18, 19, 20, 21, 22, 23, 24, 25, 26, 27, 28, 29, 30])\n",
    "\n",
    "print(Preprocess().test(10,3,a))\n",
    "# print(Preprocess().train(10,3,a)[1])"
   ],
   "metadata": {
    "collapsed": false,
    "ExecuteTime": {
     "end_time": "2023-09-01T14:01:00.883289600Z",
     "start_time": "2023-09-01T14:01:00.872287600Z"
    }
   }
  },
  {
   "cell_type": "code",
   "execution_count": 4,
   "outputs": [],
   "source": [
    "dataframe = pd.read_csv(\"KRW-BTC.csv\")[[\"close\", \"date\"]]\n",
    "\n",
    "split = int(len(dataframe)*0.85)\n",
    "price = dataframe['close'].to_numpy()\n",
    "\n",
    "tr = price[:split]\n",
    "te = price[split:]\n",
    "\n",
    "price = np.log(price/10000)\n",
    "\n",
    "scaler = MinMaxScaler()\n",
    "\n",
    "price = np.reshape(price, (len(price), 1))\n",
    "price = scaler.fit_transform(price)\n",
    "price = price.flatten()\n",
    "\n",
    "trainset = price[:split]\n",
    "testset = price[split:]"
   ],
   "metadata": {
    "collapsed": false,
    "ExecuteTime": {
     "end_time": "2023-09-01T14:01:01.370171Z",
     "start_time": "2023-09-01T14:01:01.351719400Z"
    }
   }
  },
  {
   "cell_type": "code",
   "execution_count": 5,
   "outputs": [],
   "source": [
    "'''dividing datasets to train_x and train_y'''\n",
    "x_step = 10 #length of train_x of each time step\n",
    "y_step = 3 #length of train_y of each time step\n",
    "\n",
    "train_data = Preprocess().train(x_step, y_step, trainset)\n",
    "\n",
    "train_x = train_data[0]\n",
    "train_y = train_data[1]\n",
    "\n",
    "for i in range(5):\n",
    "    train_x = np.append(train_x, train_x, axis=0)\n",
    "    train_y = np.append(train_y, train_y, axis=0)\n",
    "\n",
    "train_x = np.reshape(train_x, (len(train_x), len(train_x[1]), 1))\n"
   ],
   "metadata": {
    "collapsed": false,
    "ExecuteTime": {
     "end_time": "2023-09-01T14:01:02.077350800Z",
     "start_time": "2023-09-01T14:01:02.042343800Z"
    }
   }
  },
  {
   "cell_type": "code",
   "execution_count": 12,
   "outputs": [
    {
     "name": "stdout",
     "output_type": "stream",
     "text": [
      "Epoch 1/5\n",
      "5844/5844 [==============================] - 44s 6ms/step - loss: 0.0025 - accuracy: 0.3382\n",
      "Epoch 2/5\n",
      "5844/5844 [==============================] - 38s 6ms/step - loss: 7.0118e-04 - accuracy: 0.3392\n",
      "Epoch 3/5\n",
      "5844/5844 [==============================] - 38s 6ms/step - loss: 6.0438e-04 - accuracy: 0.3481\n",
      "Epoch 4/5\n",
      "5844/5844 [==============================] - 38s 6ms/step - loss: 5.3608e-04 - accuracy: 0.3530\n",
      "Epoch 5/5\n",
      "5844/5844 [==============================] - 38s 6ms/step - loss: 4.9985e-04 - accuracy: 0.3588\n",
      "Model: \"sequential_2\"\n",
      "_________________________________________________________________\n",
      " Layer (type)                Output Shape              Param #   \n",
      "=================================================================\n",
      " lstm_12 (LSTM)              (None, 10, 256)           264192    \n",
      "                                                                 \n",
      " dropout_10 (Dropout)        (None, 10, 256)           0         \n",
      "                                                                 \n",
      " lstm_13 (LSTM)              (None, 10, 128)           197120    \n",
      "                                                                 \n",
      " dropout_11 (Dropout)        (None, 10, 128)           0         \n",
      "                                                                 \n",
      " lstm_14 (LSTM)              (None, 10, 64)            49408     \n",
      "                                                                 \n",
      " dropout_12 (Dropout)        (None, 10, 64)            0         \n",
      "                                                                 \n",
      " lstm_15 (LSTM)              (None, 10, 32)            12416     \n",
      "                                                                 \n",
      " dropout_13 (Dropout)        (None, 10, 32)            0         \n",
      "                                                                 \n",
      " lstm_16 (LSTM)              (None, 10, 16)            3136      \n",
      "                                                                 \n",
      " dropout_14 (Dropout)        (None, 10, 16)            0         \n",
      "                                                                 \n",
      " lstm_17 (LSTM)              (None, 8)                 800       \n",
      "                                                                 \n",
      " dense_2 (Dense)             (None, 3)                 27        \n",
      "                                                                 \n",
      "=================================================================\n",
      "Total params: 527,099\n",
      "Trainable params: 527,099\n",
      "Non-trainable params: 0\n",
      "_________________________________________________________________\n"
     ]
    }
   ],
   "source": [
    "model = Sequential()\n",
    "\n",
    "model.add(LSTM(units=256, return_sequences=True))\n",
    "model.add(Dropout(0.2))\n",
    "model.add(LSTM(units=128, return_sequences=True))\n",
    "model.add(Dropout(0.2))\n",
    "model.add(LSTM(units=64, return_sequences=True))\n",
    "model.add(Dropout(0.2))\n",
    "model.add(LSTM(units=32, return_sequences=True))\n",
    "model.add(Dropout(0.2))\n",
    "model.add(LSTM(units=16, return_sequences=True))\n",
    "model.add(Dropout(0.2))\n",
    "model.add(LSTM(units=8))\n",
    "model.add(Dense(3))\n",
    "\n",
    "model.compile(loss='mse', optimizer='adam', metrics=['accuracy'])\n",
    "model.fit(train_x, train_y, epochs=5, batch_size=10, verbose=1)\n",
    "model.summary()"
   ],
   "metadata": {
    "collapsed": false,
    "ExecuteTime": {
     "end_time": "2023-09-01T14:02:56.827881700Z",
     "start_time": "2023-09-01T14:01:09.529806500Z"
    }
   }
  },
  {
   "cell_type": "code",
   "execution_count": 17,
   "outputs": [
    {
     "ename": "AttributeError",
     "evalue": "'Sequential' object has no attribute 'keras'",
     "output_type": "error",
     "traceback": [
      "\u001B[0;31m---------------------------------------------------------------------------\u001B[0m",
      "\u001B[0;31mAttributeError\u001B[0m                            Traceback (most recent call last)",
      "Cell \u001B[0;32mIn [17], line 1\u001B[0m\n\u001B[0;32m----> 1\u001B[0m \u001B[43mmodel\u001B[49m\u001B[38;5;241;43m.\u001B[39;49m\u001B[43mkeras\u001B[49m\u001B[38;5;241m.\u001B[39mmodels\u001B[38;5;241m.\u001B[39msave(\u001B[38;5;124m'\u001B[39m\u001B[38;5;124mmodel_09-01_final/model.h5\u001B[39m\u001B[38;5;124m'\u001B[39m)\n",
      "\u001B[0;31mAttributeError\u001B[0m: 'Sequential' object has no attribute 'keras'"
     ]
    }
   ],
   "source": [
    "model.save('model_09-01_final/model.h5')"
   ],
   "metadata": {
    "collapsed": false
   }
  },
  {
   "cell_type": "code",
   "execution_count": 13,
   "outputs": [
    {
     "name": "stdout",
     "output_type": "stream",
     "text": [
      "[3547.3223 3549.4475 3592.0269]\n"
     ]
    },
    {
     "data": {
      "text/plain": "<Figure size 640x480 with 1 Axes>",
      "image/png": "[encoded data removed]"
     },
     "metadata": {},
     "output_type": "display_data"
    }
   ],
   "source": [
    "test = np.array([39288000, 39404000, 39001000, 36588000, 35890000, 36056000, 35949000, 35769000, 35684000, 35941000])/10000\n",
    "test = np.log(test)\n",
    "\n",
    "test = np.reshape(test, (10, 1))\n",
    "test = scaler.transform(test)\n",
    "test = np.reshape(test, (1, 10))\n",
    "\n",
    "predict = model.predict(test)\n",
    "\n",
    "predict = scaler.inverse_transform(predict)\n",
    "predict = predict.flatten()\n",
    "predict = np.exp(predict)\n",
    "\n",
    "p_list = np.array([np.nan, np.nan, np.nan, np.nan, np.nan, np.nan, np.nan, np.nan, np.nan,np.nan])\n",
    "p_list = np.append(p_list, predict)\n",
    "plt.plot(np.array([39288000, 39404000, 39001000, 36588000, 35890000, 36056000, 35949000, 35769000, 35684000, 35941000])/10000)\n",
    "plt.plot(np.array([np.nan, np.nan, np.nan, np.nan, np.nan, np.nan, np.nan, np.nan, np.nan,np.nan, 35635000, 35479000, 35398000])/10000)\n",
    "plt.plot(p_list)\n",
    "\n",
    "print(predict)"
   ],
   "metadata": {
    "collapsed": false
   }
  },
  {
   "cell_type": "code",
   "execution_count": 170,
   "outputs": [
    {
     "name": "stdout",
     "output_type": "stream",
     "text": [
      "102\n"
     ]
    }
   ],
   "source": [
    "test_data = Preprocess().test(x_step, y_step, testset)\n",
    "print(len(test_data))"
   ],
   "metadata": {
    "collapsed": false
   }
  },
  {
   "cell_type": "code",
   "execution_count": 14,
   "outputs": [
    {
     "name": "stdout",
     "output_type": "stream",
     "text": [
      "2154\n",
      "2163\n"
     ]
    },
    {
     "data": {
      "text/plain": "<Figure size 640x480 with 1 Axes>",
      "image/png": "[encoded data removed]"
     },
     "metadata": {},
     "output_type": "display_data"
    }
   ],
   "source": [
    "test_data = Preprocess().test(x_step, y_step, testset)\n",
    "\n",
    "valid = np.array([])\n",
    "for i in range(len(trainset)):\n",
    "    valid = np.append(valid, np.nan)\n",
    "\n",
    "valid = np.append(valid, te)\n",
    "\n",
    "predict_list = np.array([])\n",
    "for i in range(len(trainset)+x_step):\n",
    "    predict_list = np.append(predict_list, np.nan)\n",
    "\n",
    "\n",
    "for i in range(len(test_data)):\n",
    "    test = np.reshape(test_data[i], (1, x_step))\n",
    "    predict = model.predict(test)\n",
    "\n",
    "    predict = scaler.inverse_transform(predict)\n",
    "    predict = predict.flatten()\n",
    "    predict = np.exp(predict)\n",
    "\n",
    "    predict_list = np.append(predict_list, predict*10000)\n",
    "\n",
    "print(len(predict_list))\n",
    "print(len(valid))\n",
    "\n",
    "plt.plot(valid)\n",
    "plt.plot(predict_list)\n",
    "plt.plot(tr)\n",
    "plt.show()"
   ],
   "metadata": {
    "collapsed": false
   }
  },
  {
   "cell_type": "code",
   "execution_count": 184,
   "outputs": [
    {
     "name": "stdout",
     "output_type": "stream",
     "text": [
      "2163\n",
      "2154\n"
     ]
    }
   ],
   "source": [],
   "metadata": {
    "collapsed": false
   }
  },
  {
   "cell_type": "code",
   "execution_count": 16,
   "outputs": [
    {
     "name": "stdout",
     "output_type": "stream",
     "text": [
      "데이터 정상성: non-stationary\n"
     ]
    }
   ],
   "source": [
    "import numpy as np\n",
    "import pandas as pd\n",
    "from statsmodels.tsa.stattools import adfuller\n",
    "\n",
    "# ADF 검정 함수를 통한 정상성 판단\n",
    "def check_stationarity(data):\n",
    "    result = adfuller(data)\n",
    "    p_value = result[1]\n",
    "\n",
    "    if p_value <= 0.05:\n",
    "        return \"stationary\"\n",
    "    else:\n",
    "        return \"non-stationary\"\n",
    "\n",
    "# 데이터 정상성 판단 출력\n",
    "result = check_stationarity(dataframe)\n",
    "print(\"데이터 정상성:\", result)"
   ],
   "metadata": {
    "collapsed": false,
    "ExecuteTime": {
     "end_time": "2023-08-26T03:49:10.194357200Z",
     "start_time": "2023-08-26T03:49:10.172349100Z"
    }
   }
  },
  {
   "cell_type": "code",
   "execution_count": 34,
   "outputs": [
    {
     "name": "stdout",
     "output_type": "stream",
     "text": [
      "1차 차분 후 데이터:                          close\n",
      "2019-10-28 09:00:00        NaN\n",
      "2019-11-04 09:00:00  -269000.0\n",
      "2019-11-11 09:00:00  -572000.0\n",
      "2019-11-18 09:00:00 -1706000.0\n",
      "2019-11-25 09:00:00   412000.0\n",
      "...                        ...\n",
      "2023-07-24 09:00:00 -1095000.0\n",
      "2023-07-31 09:00:00   755000.0\n",
      "2023-08-07 09:00:00   513000.0\n",
      "2023-08-14 09:00:00 -3169000.0\n",
      "2023-08-21 09:00:00  -509000.0\n",
      "\n",
      "[200 rows x 1 columns]\n"
     ]
    },
    {
     "name": "stderr",
     "output_type": "stream",
     "text": [
      "E:\\PycharmProjects\\BTC_Prediction\\venv\\lib\\site-packages\\pandas\\core\\internals\\blocks.py:329: RuntimeWarning: invalid value encountered in log\n",
      "  result = func(self.values, **kwargs)\n"
     ]
    },
    {
     "data": {
      "text/plain": "<Figure size 640x480 with 1 Axes>",
      "image/png": "[encoded data removed]"
     },
     "metadata": {},
     "output_type": "display_data"
    },
    {
     "name": "stdout",
     "output_type": "stream",
     "text": [
      "stationary\n"
     ]
    }
   ],
   "source": [
    "import numpy as np\n",
    "import pandas as pd\n",
    "\n",
    "# 차분 적용\n",
    "differenced_data = dataframe.diff()\n",
    "\n",
    "# 결과 출력\n",
    "print(\"1차 차분 후 데이터:\", differenced_data)\n",
    "\n",
    "plt.plot(np.log(differenced_data))\n",
    "plt.show()\n",
    "\n",
    "print(check_stationarity(differenced_data[1:]))\n",
    "\n"
   ],
   "metadata": {
    "collapsed": false,
    "ExecuteTime": {
     "end_time": "2023-08-26T03:57:12.167151800Z",
     "start_time": "2023-08-26T03:57:11.879087200Z"
    }
   }
  }
 ],
 "metadata": {
  "kernelspec": {
   "display_name": "Python 3",
   "language": "python",
   "name": "python3"
  },
  "language_info": {
   "codemirror_mode": {
    "name": "ipython",
    "version": 2
   },
   "file_extension": ".py",
   "mimetype": "text/x-python",
   "name": "python",
   "nbconvert_exporter": "python",
   "pygments_lexer": "ipython2",
   "version": "2.7.6"
  }
 },
 "nbformat": 4,
 "nbformat_minor": 0
}
