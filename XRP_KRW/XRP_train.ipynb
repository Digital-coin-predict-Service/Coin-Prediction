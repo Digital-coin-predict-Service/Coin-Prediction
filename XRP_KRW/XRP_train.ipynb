{
 "cells": [
  {
   "cell_type": "code",
   "execution_count": 2,
   "metadata": {
    "collapsed": true,
    "ExecuteTime": {
     "end_time": "2023-10-29T14:19:12.270343200Z",
     "start_time": "2023-10-29T14:19:12.246344Z"
    }
   },
   "outputs": [],
   "source": [
    "import numpy as np\n",
    "import pandas as pd\n",
    "from keras.models import Sequential\n",
    "from keras.layers import Dense, LSTM, Dropout\n",
    "import matplotlib.pyplot as plt\n",
    "from sklearn.preprocessing import MinMaxScaler\n",
    "import matplotlib.dates as mdates\n",
    "import datetime\n",
    "from calendar import monthrange\n",
    "import pyupbit\n",
    "import time\n",
    "\n",
    "#user-defined\n",
    "from Preprocess import Preprocess"
   ]
  },
  {
   "cell_type": "code",
   "execution_count": 5,
   "outputs": [
    {
     "name": "stdout",
     "output_type": "stream",
     "text": [
      "                      open   high    low  close         volume         value\n",
      "2017-09-25 22:05:00  200.0  200.0  200.0  200.0       0.000200  4.000000e-02\n",
      "2017-09-25 22:10:00  201.0  201.0  200.0  200.0       0.000200  4.010000e-02\n",
      "2017-09-25 22:15:00  201.0  201.0  200.0  200.0       0.000200  4.010000e-02\n",
      "2017-09-25 22:20:00  201.0  201.0  201.0  201.0       0.000200  4.020000e-02\n",
      "2017-09-25 22:25:00  200.0  200.0  200.0  200.0       0.000100  2.000000e-02\n",
      "...                    ...    ...    ...    ...            ...           ...\n",
      "2024-01-09 14:25:00  767.0  768.0  767.0  768.0  244897.133511  1.878985e+08\n",
      "2024-01-09 14:30:00  768.0  769.0  767.0  769.0  284290.410548  2.184242e+08\n",
      "2024-01-09 14:35:00  768.0  769.0  766.0  766.0  352220.198889  2.702713e+08\n",
      "2024-01-09 14:40:00  767.0  768.0  766.0  767.0  413927.677724  3.174452e+08\n",
      "2024-01-09 14:45:00  767.0  768.0  766.0  767.0  266521.087995  2.044411e+08\n",
      "\n",
      "[655709 rows x 6 columns]\n"
     ]
    }
   ],
   "source": [
    "'''Getting BTC data and saving as csv file'''\n",
    "dataframe = pyupbit.get_ohlcv(ticker=\"KRW-XRP\", interval=\"minute5\", count=10000000)\n",
    "print(dataframe)\n",
    "dataframe['price'] = dataframe['value'] / dataframe['volume']\n",
    "dataframe.to_csv(\"KRW-XRP.csv\", index=True)"
   ],
   "metadata": {
    "collapsed": false,
    "ExecuteTime": {
     "end_time": "2023-10-29T14:24:10.348464900Z",
     "start_time": "2023-10-29T14:24:08.106108700Z"
    }
   }
  },
  {
   "cell_type": "code",
   "execution_count": null,
   "outputs": [],
   "source": [],
   "metadata": {
    "collapsed": false
   }
  },
  {
   "cell_type": "code",
   "execution_count": 3,
   "outputs": [
    {
     "name": "stdout",
     "output_type": "stream",
     "text": [
      "[4380.] [179.]\n"
     ]
    }
   ],
   "source": [
    "dataset = dataframe[[\"close\"]]\n",
    "\n",
    "split = int(len(dataset) * 0.85)\n",
    "price = dataset.to_numpy()\n",
    "print(max(price), min(price))\n",
    "\n",
    "tr = price[:split]\n",
    "te = price[split:]\n",
    "\n",
    "price = np.log(price/10000)\n",
    "\n",
    "scaler = MinMaxScaler()\n",
    "\n",
    "price = np.reshape(price, (len(price), 1))\n",
    "price = scaler.fit_transform(price)\n",
    "price = price.flatten()\n",
    "\n",
    "trainset = price[:split]\n",
    "testset = price[split:]"
   ],
   "metadata": {
    "collapsed": false,
    "ExecuteTime": {
     "end_time": "2023-10-29T14:33:47.001325300Z",
     "start_time": "2023-10-29T14:33:46.950333200Z"
    }
   }
  },
  {
   "cell_type": "code",
   "execution_count": 4,
   "outputs": [],
   "source": [
    "x_step = 10\n",
    "y_step = 3\n",
    "\n",
    "train_data = Preprocess().train(x_step, y_step, trainset)\n",
    "\n",
    "train_x = train_data[0]\n",
    "train_y = train_data[1]\n",
    "\n",
    "for i in range(5):\n",
    "    train_x = np.append(train_x, train_x, axis=0)\n",
    "    train_y = np.append(train_y, train_y, axis=0)\n",
    "\n",
    "train_x = np.reshape(train_x, (len(train_x), len(train_x[1]), 1))"
   ],
   "metadata": {
    "collapsed": false,
    "ExecuteTime": {
     "end_time": "2023-10-29T14:36:49.802218500Z",
     "start_time": "2023-10-29T14:36:49.753698600Z"
    }
   }
  },
  {
   "cell_type": "code",
   "execution_count": 5,
   "outputs": [
    {
     "name": "stderr",
     "output_type": "stream",
     "text": [
      "2024-01-08 19:01:59.390464: I tensorflow/core/platform/cpu_feature_guard.cc:151] This TensorFlow binary is optimized with oneAPI Deep Neural Network Library (oneDNN) to use the following CPU instructions in performance-critical operations:  AVX2 AVX512F FMA\n",
      "To enable them in other operations, rebuild TensorFlow with the appropriate compiler flags.\n",
      "2024-01-08 19:01:59.710588: I tensorflow/core/common_runtime/gpu/gpu_device.cc:1525] Created device /job:localhost/replica:0/task:0/device:GPU:0 with 975 MB memory:  -> device: 0, name: NVIDIA GeForce RTX 3090, pci bus id: 0000:68:00.0, compute capability: 8.6\n"
     ]
    },
    {
     "name": "stdout",
     "output_type": "stream",
     "text": [
      "Epoch 1/5\n"
     ]
    },
    {
     "name": "stderr",
     "output_type": "stream",
     "text": [
      "2024-01-08 19:02:05.551192: I tensorflow/stream_executor/cuda/cuda_dnn.cc:366] Loaded cuDNN version 8500\n",
      "2024-01-08 19:02:05.704270: I tensorflow/stream_executor/cuda/cuda_blas.cc:1774] TensorFloat-32 will be used for the matrix multiplication. This will only be logged once.\n"
     ]
    },
    {
     "name": "stdout",
     "output_type": "stream",
     "text": [
      "6199/6199 [==============================] - 46s 6ms/step - loss: 0.0022 - accuracy: 0.3367\n",
      "Epoch 2/5\n",
      "6199/6199 [==============================] - 40s 6ms/step - loss: 0.0011 - accuracy: 0.3494\n",
      "Epoch 3/5\n",
      "6199/6199 [==============================] - 39s 6ms/step - loss: 9.5775e-04 - accuracy: 0.3534\n",
      "Epoch 4/5\n",
      "6199/6199 [==============================] - 40s 6ms/step - loss: 8.9282e-04 - accuracy: 0.3535\n",
      "Epoch 5/5\n",
      "6199/6199 [==============================] - 39s 6ms/step - loss: 8.4317e-04 - accuracy: 0.3573\n",
      "Model: \"sequential\"\n",
      "_________________________________________________________________\n",
      " Layer (type)                Output Shape              Param #   \n",
      "=================================================================\n",
      " lstm (LSTM)                 (None, 10, 256)           264192    \n",
      "                                                                 \n",
      " dropout (Dropout)           (None, 10, 256)           0         \n",
      "                                                                 \n",
      " lstm_1 (LSTM)               (None, 10, 128)           197120    \n",
      "                                                                 \n",
      " dropout_1 (Dropout)         (None, 10, 128)           0         \n",
      "                                                                 \n",
      " lstm_2 (LSTM)               (None, 10, 64)            49408     \n",
      "                                                                 \n",
      " dropout_2 (Dropout)         (None, 10, 64)            0         \n",
      "                                                                 \n",
      " lstm_3 (LSTM)               (None, 10, 32)            12416     \n",
      "                                                                 \n",
      " dropout_3 (Dropout)         (None, 10, 32)            0         \n",
      "                                                                 \n",
      " lstm_4 (LSTM)               (None, 10, 16)            3136      \n",
      "                                                                 \n",
      " dropout_4 (Dropout)         (None, 10, 16)            0         \n",
      "                                                                 \n",
      " lstm_5 (LSTM)               (None, 8)                 800       \n",
      "                                                                 \n",
      " dense (Dense)               (None, 3)                 27        \n",
      "                                                                 \n",
      "=================================================================\n",
      "Total params: 527,099\n",
      "Trainable params: 527,099\n",
      "Non-trainable params: 0\n",
      "_________________________________________________________________\n"
     ]
    }
   ],
   "source": [
    "model = Sequential()\n",
    "\n",
    "model.add(LSTM(units=256, return_sequences=True))\n",
    "model.add(Dropout(0.2))\n",
    "model.add(LSTM(units=128, return_sequences=True))\n",
    "model.add(Dropout(0.2))\n",
    "model.add(LSTM(units=64, return_sequences=True))\n",
    "model.add(Dropout(0.2))\n",
    "model.add(LSTM(units=32, return_sequences=True))\n",
    "model.add(Dropout(0.2))\n",
    "model.add(LSTM(units=16, return_sequences=True))\n",
    "model.add(Dropout(0.2))\n",
    "model.add(LSTM(units=8))\n",
    "model.add(Dense(3))\n",
    "\n",
    "model.compile(loss='mse', optimizer='adam', metrics=['accuracy'])\n",
    "model.fit(train_x, train_y, epochs=5, batch_size=10, verbose=1)\n",
    "model.summary()"
   ],
   "metadata": {
    "collapsed": false
   }
  },
  {
   "cell_type": "code",
   "execution_count": 8,
   "outputs": [],
   "source": [
    "model.save('XRP_model_01_08/model.h5')"
   ],
   "metadata": {
    "collapsed": false
   }
  },
  {
   "cell_type": "code",
   "execution_count": 9,
   "outputs": [
    {
     "name": "stdout",
     "output_type": "stream",
     "text": [
      "[0.07552864 0.07656999 0.07595682]\n"
     ]
    },
    {
     "data": {
      "text/plain": "<Figure size 640x480 with 1 Axes>",
      "image/png": "[encoded data removed]"
     },
     "metadata": {},
     "output_type": "display_data"
    }
   ],
   "source": [
    "test = np.array([668, 667, 706, 699, 703, 702, 730, 752, 749, 747])/10000\n",
    "test = np.log(test)\n",
    "\n",
    "test = np.reshape(test, (10, 1))\n",
    "test = scaler.transform(test)\n",
    "test = np.reshape(test, (1, 10))\n",
    "\n",
    "predict = model.predict(test)\n",
    "\n",
    "predict = scaler.inverse_transform(predict)\n",
    "predict = predict.flatten()\n",
    "predict = np.exp(predict)\n",
    "\n",
    "p_list = np.array([np.nan, np.nan, np.nan, np.nan, np.nan, np.nan, np.nan, np.nan, np.nan,np.nan])\n",
    "p_list = np.append(p_list, predict)\n",
    "plt.plot(np.array([668, 667, 706, 699, 703, 702, 730, 752, 749, 747])/10000)\n",
    "plt.plot(np.array([np.nan, np.nan, np.nan, np.nan, np.nan, np.nan, np.nan, np.nan, np.nan,np.nan, 752, 749, 747])/10000)\n",
    "plt.plot(p_list)\n",
    "\n",
    "print(predict)"
   ],
   "metadata": {
    "collapsed": false
   }
  },
  {
   "cell_type": "code",
   "execution_count": 8,
   "outputs": [
    {
     "name": "stdout",
     "output_type": "stream",
     "text": [
      "2214\n",
      "2223\n"
     ]
    },
    {
     "data": {
      "text/plain": "<Figure size 640x480 with 1 Axes>",
      "image/png": "[encoded data removed]"
     },
     "metadata": {},
     "output_type": "display_data"
    }
   ],
   "source": [
    "test_data = Preprocess().test(x_step, y_step, testset)\n",
    "\n",
    "valid = np.array([])\n",
    "for i in range(len(trainset)):\n",
    "    valid = np.append(valid, np.nan)\n",
    "\n",
    "valid = np.append(valid, te)\n",
    "\n",
    "predict_list = np.array([])\n",
    "for i in range(len(trainset)+x_step):\n",
    "    predict_list = np.append(predict_list, np.nan)\n",
    "\n",
    "\n",
    "for i in range(len(test_data)):\n",
    "    test = np.reshape(test_data[i], (1, x_step))\n",
    "    predict = model.predict(test)\n",
    "\n",
    "    predict = scaler.inverse_transform(predict)\n",
    "    predict = predict.flatten()\n",
    "    predict = np.exp(predict)\n",
    "\n",
    "    predict_list = np.append(predict_list, predict*10000)\n",
    "\n",
    "print(len(predict_list))\n",
    "print(len(valid))\n",
    "\n",
    "plt.plot(valid)\n",
    "plt.plot(predict_list)\n",
    "plt.plot(tr)\n",
    "plt.show()"
   ],
   "metadata": {
    "collapsed": false
   }
  }
 ],
 "metadata": {
  "kernelspec": {
   "display_name": "Python 3",
   "language": "python",
   "name": "python3"
  },
  "language_info": {
   "codemirror_mode": {
    "name": "ipython",
    "version": 2
   },
   "file_extension": ".py",
   "mimetype": "text/x-python",
   "name": "python",
   "nbconvert_exporter": "python",
   "pygments_lexer": "ipython2",
   "version": "2.7.6"
  }
 },
 "nbformat": 4,
 "nbformat_minor": 0
}
